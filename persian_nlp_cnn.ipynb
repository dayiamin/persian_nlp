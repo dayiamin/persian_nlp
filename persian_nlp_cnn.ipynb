{
 "cells": [
  {
   "cell_type": "markdown",
   "metadata": {
    "id": "o0nj38ldhbKh"
   },
   "source": [
    "First installing required libraries"
   ]
  },
  {
   "cell_type": "code",
   "execution_count": 6,
   "metadata": {
    "colab": {
     "base_uri": "https://localhost:8080/"
    },
    "executionInfo": {
     "elapsed": 3600,
     "status": "ok",
     "timestamp": 1690105725899,
     "user": {
      "displayName": "Mohammad Amin",
      "userId": "03679903916053909934"
     },
     "user_tz": -210
    },
    "id": "2aDTGwNcmGXv",
    "outputId": "29cc54c8-c6a8-48f9-f5b9-8c1a0f2291f9"
   },
   "outputs": [
    {
     "name": "stdout",
     "output_type": "stream",
     "text": [
      "Requirement already satisfied: hazm in /usr/local/lib/python3.10/dist-packages (0.9.3)\n",
      "Requirement already satisfied: fasttext-wheel<0.10.0,>=0.9.2 in /usr/local/lib/python3.10/dist-packages (from hazm) (0.9.2)\n",
      "Requirement already satisfied: gensim<5.0.0,>=4.3.1 in /usr/local/lib/python3.10/dist-packages (from hazm) (4.3.1)\n",
      "Requirement already satisfied: nltk<4.0.0,>=3.8.1 in /usr/local/lib/python3.10/dist-packages (from hazm) (3.8.1)\n",
      "Requirement already satisfied: numpy<2.0.0,>=1.24.3 in /usr/local/lib/python3.10/dist-packages (from hazm) (1.25.1)\n",
      "Requirement already satisfied: python-crfsuite<0.10.0,>=0.9.9 in /usr/local/lib/python3.10/dist-packages (from hazm) (0.9.9)\n",
      "Requirement already satisfied: scikit-learn<2.0.0,>=1.2.2 in /usr/local/lib/python3.10/dist-packages (from hazm) (1.2.2)\n",
      "Requirement already satisfied: pybind11>=2.2 in /usr/local/lib/python3.10/dist-packages (from fasttext-wheel<0.10.0,>=0.9.2->hazm) (2.11.1)\n",
      "Requirement already satisfied: setuptools>=0.7.0 in /usr/local/lib/python3.10/dist-packages (from fasttext-wheel<0.10.0,>=0.9.2->hazm) (67.7.2)\n",
      "Requirement already satisfied: scipy>=1.7.0 in /usr/local/lib/python3.10/dist-packages (from gensim<5.0.0,>=4.3.1->hazm) (1.10.1)\n",
      "Requirement already satisfied: smart-open>=1.8.1 in /usr/local/lib/python3.10/dist-packages (from gensim<5.0.0,>=4.3.1->hazm) (6.3.0)\n",
      "Requirement already satisfied: click in /usr/local/lib/python3.10/dist-packages (from nltk<4.0.0,>=3.8.1->hazm) (8.1.6)\n",
      "Requirement already satisfied: joblib in /usr/local/lib/python3.10/dist-packages (from nltk<4.0.0,>=3.8.1->hazm) (1.3.1)\n",
      "Requirement already satisfied: regex>=2021.8.3 in /usr/local/lib/python3.10/dist-packages (from nltk<4.0.0,>=3.8.1->hazm) (2022.10.31)\n",
      "Requirement already satisfied: tqdm in /usr/local/lib/python3.10/dist-packages (from nltk<4.0.0,>=3.8.1->hazm) (4.65.0)\n",
      "Requirement already satisfied: threadpoolctl>=2.0.0 in /usr/local/lib/python3.10/dist-packages (from scikit-learn<2.0.0,>=1.2.2->hazm) (3.2.0)\n"
     ]
    }
   ],
   "source": [
    "!pip install hazm"
   ]
  },
  {
   "cell_type": "markdown",
   "metadata": {
    "id": "g_7H_w6wmY6r"
   },
   "source": [
    "importing packages"
   ]
  },
  {
   "cell_type": "code",
   "execution_count": 1,
   "metadata": {
    "executionInfo": {
     "elapsed": 4384,
     "status": "ok",
     "timestamp": 1690105750611,
     "user": {
      "displayName": "Mohammad Amin",
      "userId": "03679903916053909934"
     },
     "user_tz": -210
    },
    "id": "MVoCAuJKmWB_"
   },
   "outputs": [],
   "source": [
    "import pandas as pd\n",
    "import pickle\n",
    "import tensorflow as tf\n",
    "from tensorflow.keras import callbacks\n",
    "import pickle\n",
    "import numpy as np\n",
    "import hazm\n",
    "import re\n",
    "from string import punctuation\n",
    "from sklearn.feature_extraction.text import CountVectorizer\n",
    "from sklearn.utils import resample\n",
    "from sklearn.preprocessing import LabelEncoder, OneHotEncoder\n",
    "from sklearn.model_selection import train_test_split\n",
    "from tensorflow.keras import utils as np_utils\n",
    "from keras.models import Sequential\n",
    "from keras.layers import Dense, Embedding , Conv1D, GlobalMaxPooling1D, Dropout, Activation\n",
    "from sklearn.model_selection import train_test_split\n",
    "from keras.callbacks import EarlyStopping"
   ]
  },
  {
   "cell_type": "markdown",
   "metadata": {
    "id": "TnFuuCjupB_6"
   },
   "source": [
    "loading data\n"
   ]
  },
  {
   "cell_type": "code",
   "execution_count": null,
   "metadata": {
    "colab": {
     "base_uri": "https://localhost:8080/",
     "height": 206
    },
    "executionInfo": {
     "elapsed": 2586,
     "status": "ok",
     "timestamp": 1690105758140,
     "user": {
      "displayName": "Mohammad Amin",
      "userId": "03679903916053909934"
     },
     "user_tz": -210
    },
    "id": "YP8mr4xCmWl9",
    "outputId": "f8bb1e08-6736-4de1-dfef-8a7b121c5ba1"
   },
   "outputs": [],
   "source": [
    "df = pd.read_excel('/content/drive/MyDrive/datasets/all_data.xlsx')\n",
    "df=df.sample(frac=1)\n",
    "df.head()"
   ]
  },
  {
   "cell_type": "markdown",
   "metadata": {
    "id": "N9yJiX2TmW4B"
   },
   "source": [
    "cleaning the data"
   ]
  },
  {
   "cell_type": "code",
   "execution_count": null,
   "metadata": {
    "colab": {
     "base_uri": "https://localhost:8080/",
     "height": 206
    },
    "executionInfo": {
     "elapsed": 444,
     "status": "ok",
     "timestamp": 1690105770885,
     "user": {
      "displayName": "Mohammad Amin",
      "userId": "03679903916053909934"
     },
     "user_tz": -210
    },
    "id": "8V2hQCgDmXP0",
    "outputId": "73d84513-9ef0-4523-a053-751b15c77b97"
   },
   "outputs": [],
   "source": [
    "df = df.drop('Unnamed: 0',axis=1)\n",
    "df = df.dropna()\n",
    "df.head()"
   ]
  },
  {
   "cell_type": "markdown",
   "metadata": {
    "id": "Oax7dXBCp_oB"
   },
   "source": [
    "counting labels\n"
   ]
  },
  {
   "cell_type": "code",
   "execution_count": 4,
   "metadata": {
    "colab": {
     "base_uri": "https://localhost:8080/"
    },
    "executionInfo": {
     "elapsed": 324,
     "status": "ok",
     "timestamp": 1690105775736,
     "user": {
      "displayName": "Mohammad Amin",
      "userId": "03679903916053909934"
     },
     "user_tz": -210
    },
    "id": "9-3EI18Dqi4k",
    "outputId": "1884fae3-5d5f-4b48-b9c3-ed00706b7b3a"
   },
   "outputs": [
    {
     "data": {
      "text/plain": [
       "4    2072\n",
       "6    1731\n",
       "0    1638\n",
       "3     823\n",
       "2     728\n",
       "1     581\n",
       "5     386\n",
       "Name: label, dtype: int64"
      ]
     },
     "execution_count": 4,
     "metadata": {},
     "output_type": "execute_result"
    }
   ],
   "source": [
    "df['label'].value_counts()"
   ]
  },
  {
   "cell_type": "markdown",
   "metadata": {
    "id": "81LXOQJGrlYW"
   },
   "source": [
    "let's balance the data around 1000 samples\n"
   ]
  },
  {
   "cell_type": "code",
   "execution_count": 5,
   "metadata": {
    "colab": {
     "base_uri": "https://localhost:8080/"
    },
    "executionInfo": {
     "elapsed": 8,
     "status": "ok",
     "timestamp": 1690105776619,
     "user": {
      "displayName": "Mohammad Amin",
      "userId": "03679903916053909934"
     },
     "user_tz": -210
    },
    "id": "8CQcx7QSrk7r",
    "outputId": "390b81f0-2e88-4069-ee91-e83a579cd9a2"
   },
   "outputs": [
    {
     "data": {
      "text/plain": [
       "0    1000\n",
       "1    1000\n",
       "2    1000\n",
       "3    1000\n",
       "4    1000\n",
       "5    1000\n",
       "6    1000\n",
       "Name: label, dtype: int64"
      ]
     },
     "execution_count": 5,
     "metadata": {},
     "output_type": "execute_result"
    }
   ],
   "source": [
    "df_minority1 = df[df.label == 1]\n",
    "df_minority2 = df[df.label == 2]\n",
    "df_minority3 = df[df.label == 3]\n",
    "df_minority5 = df[df.label == 5]\n",
    "df_minority_upsampled1 = resample(df_minority1,\n",
    "                                 replace=True,  # sample with replacement\n",
    "                                 n_samples=1000,  # to match majority class\n",
    "                                 random_state=123)  # reproducible results\n",
    "df_minority_upsampled5 = resample(df_minority5,\n",
    "                                 replace=True,  # sample with replacement\n",
    "                                 n_samples=1000,  # to match majority class\n",
    "                                 random_state=123)\n",
    "\n",
    "df_minority_upsampled2 = resample(df_minority2,\n",
    "                                 replace=True,  # sample with replacement\n",
    "                                 n_samples=1000,  # to match majority class\n",
    "                                 random_state=123)  # reproducible results\n",
    "df_minority_upsampled3 = resample(df_minority3,\n",
    "                                 replace=True,  # sample with replacement\n",
    "                                 n_samples=1000,  # to match majority class\n",
    "                                 random_state=123)\n",
    "\n",
    "\n",
    "df_upsampled = pd.concat([df[df.label==0].sample(1000), df_minority_upsampled1,\n",
    "                          df_minority_upsampled2,\n",
    "                          df_minority_upsampled3,\n",
    "                          df[df.label==4].sample(1000),\n",
    "                          df_minority_upsampled5,\n",
    "                          df[df.label==6].sample(1000)])\n",
    "\n",
    "df = df_upsampled\n",
    "df['label'].value_counts()"
   ]
  },
  {
   "cell_type": "code",
   "execution_count": 11,
   "metadata": {
    "executionInfo": {
     "elapsed": 6,
     "status": "ok",
     "timestamp": 1690105809757,
     "user": {
      "displayName": "Mohammad Amin",
      "userId": "03679903916053909934"
     },
     "user_tz": -210
    },
    "id": "02kFTW8vu72H"
   },
   "outputs": [],
   "source": [
    "df = df.sample(frac=1)"
   ]
  },
  {
   "cell_type": "markdown",
   "metadata": {
    "id": "Zp6GSQqctteJ"
   },
   "source": [
    "now let's process the data and clean it for nlp task"
   ]
  },
  {
   "cell_type": "code",
   "execution_count": 12,
   "metadata": {
    "colab": {
     "base_uri": "https://localhost:8080/"
    },
    "executionInfo": {
     "elapsed": 480,
     "status": "ok",
     "timestamp": 1690105813874,
     "user": {
      "displayName": "Mohammad Amin",
      "userId": "03679903916053909934"
     },
     "user_tz": -210
    },
    "id": "1HzXnneBuLZ3",
    "outputId": "67961f2b-4bd0-43db-e99d-5c266512dfd0"
   },
   "outputs": [
    {
     "data": {
      "text/plain": [
       "['میشم',\n",
       " 'اینکه',\n",
       " 'یا',\n",
       " '000',\n",
       " 'همه',\n",
       " 'حتی',\n",
       " 'از',\n",
       " 'سلام',\n",
       " 'داره',\n",
       " 'میخوام',\n",
       " 'اما',\n",
       " 'باید',\n",
       " 'نمی',\n",
       " 'اون',\n",
       " 'یک',\n",
       " 'شما',\n",
       " 'نمیدونم',\n",
       " 'می',\n",
       " 'چند',\n",
       " 'در',\n",
       " 'پیش',\n",
       " 'خیلی',\n",
       " 'تو',\n",
       " 'دوست',\n",
       " 'اصلا',\n",
       " 'چون',\n",
       " 'هم',\n",
       " 'd_',\n",
       " 'ماه',\n",
       " 'است',\n",
       " 'وقتی',\n",
       " 'شده',\n",
       " 'با',\n",
       " 'این',\n",
       " 'کنم',\n",
       " 'سال',\n",
       " 'الان',\n",
       " 'های',\n",
       " 'ها',\n",
       " 'ولی',\n",
       " 'رو',\n",
       " 'ساله',\n",
       " 'هست',\n",
       " 'زندگی',\n",
       " 'به',\n",
       " 'هر',\n",
       " 'ندارم',\n",
       " 'ما',\n",
       " 'کرد',\n",
       " 'هیچ',\n",
       " 'یه',\n",
       " 'چیکار',\n",
       " 'کنید',\n",
       " 'من',\n",
       " 'شدم',\n",
       " 'بهم',\n",
       " 'کردم',\n",
       " 'تا',\n",
       " 'میشه',\n",
       " 'برام',\n",
       " 'که',\n",
       " 'را',\n",
       " 'میکنه',\n",
       " 'هستم',\n",
       " 'دارم',\n",
       " 'میگه',\n",
       " 'چه',\n",
       " 'دیگه',\n",
       " 'برای',\n",
       " 'بعد']"
      ]
     },
     "execution_count": 12,
     "metadata": {},
     "output_type": "execute_result"
    }
   ],
   "source": [
    "stop_words = pickle.load(open('/content/drive/MyDrive/datasets/text_stop_words.pkl','rb'))\n",
    "stop_words"
   ]
  },
  {
   "cell_type": "code",
   "execution_count": 13,
   "metadata": {
    "executionInfo": {
     "elapsed": 893,
     "status": "ok",
     "timestamp": 1690105815863,
     "user": {
      "displayName": "Mohammad Amin",
      "userId": "03679903916053909934"
     },
     "user_tz": -210
    },
    "id": "M_6ZOyuprcZt"
   },
   "outputs": [],
   "source": [
    "lemmatizer = hazm.Lemmatizer()\n",
    "normalizer = hazm.Normalizer()\n",
    "def preprocessing(text):\n",
    "\n",
    "    text = ''.join(c for c in text if not c.isdigit())\n",
    "    text = ''.join(c for c in text if c not in punctuation)\n",
    "    text = re.sub('\\n',' ', text)\n",
    "    text = re.sub('xD',' ', text)\n",
    "    text = re.sub('؟',' ', text)\n",
    "    text = re.sub('،',' ', text)\n",
    "    text = normalizer.normalize(text)\n",
    "    text = lemmatizer.lemmatize(text)\n",
    "    text = ' '.join(word for word in text.split() if word not in stop_words)\n",
    "\n",
    "    return text"
   ]
  },
  {
   "cell_type": "code",
   "execution_count": 15,
   "metadata": {
    "executionInfo": {
     "elapsed": 6146,
     "status": "ok",
     "timestamp": 1690105838676,
     "user": {
      "displayName": "Mohammad Amin",
      "userId": "03679903916053909934"
     },
     "user_tz": -210
    },
    "id": "JDwbK4EruStV"
   },
   "outputs": [],
   "source": [
    "# apply the function to data\n",
    "df['new_text'] = df['text'].apply(preprocessing)\n"
   ]
  },
  {
   "cell_type": "markdown",
   "metadata": {
    "id": "kJejGyLDw2e_"
   },
   "source": [
    "now label encoding the data"
   ]
  },
  {
   "cell_type": "code",
   "execution_count": 16,
   "metadata": {
    "colab": {
     "base_uri": "https://localhost:8080/"
    },
    "executionInfo": {
     "elapsed": 340,
     "status": "ok",
     "timestamp": 1690105889794,
     "user": {
      "displayName": "Mohammad Amin",
      "userId": "03679903916053909934"
     },
     "user_tz": -210
    },
    "id": "_BqmP0T2umRw",
    "outputId": "75dd652d-3088-427f-f99a-557578adda7e"
   },
   "outputs": [
    {
     "data": {
      "text/plain": [
       "(array([[0., 0., 0., ..., 0., 0., 0.],\n",
       "        [0., 0., 1., ..., 0., 0., 0.],\n",
       "        [0., 0., 0., ..., 0., 0., 1.],\n",
       "        ...,\n",
       "        [0., 0., 0., ..., 0., 0., 1.],\n",
       "        [1., 0., 0., ..., 0., 0., 0.],\n",
       "        [0., 0., 0., ..., 0., 0., 0.]], dtype=float32),\n",
       " 7000)"
      ]
     },
     "execution_count": 16,
     "metadata": {},
     "output_type": "execute_result"
    }
   ],
   "source": [
    "labelencoder = LabelEncoder()\n",
    "y_cnn = labelencoder.fit_transform(df['label'])\n",
    "\n",
    "y_cnn = np_utils.to_categorical(y_cnn, num_classes= 7)\n",
    "y_cnn, len(y_cnn)"
   ]
  },
  {
   "cell_type": "markdown",
   "metadata": {
    "id": "SPxSLj6LxIdB"
   },
   "source": [
    "Building CNN model"
   ]
  },
  {
   "cell_type": "code",
   "execution_count": 17,
   "metadata": {
    "colab": {
     "base_uri": "https://localhost:8080/"
    },
    "executionInfo": {
     "elapsed": 1482,
     "status": "ok",
     "timestamp": 1690105893466,
     "user": {
      "displayName": "Mohammad Amin",
      "userId": "03679903916053909934"
     },
     "user_tz": -210
    },
    "id": "-VKRmHSuuz_z",
    "outputId": "4274f816-e35f-456e-e2da-00f515ceadbd"
   },
   "outputs": [
    {
     "data": {
      "text/plain": [
       "214333"
      ]
     },
     "execution_count": 17,
     "metadata": {},
     "output_type": "execute_result"
    }
   ],
   "source": [
    "max_features = 216927\n",
    "maxlen = 200\n",
    "embedding_dims = 50\n",
    "\n",
    "vectorize_layer = tf.keras.layers.TextVectorization(\n",
    "    max_tokens=max_features,\n",
    "    standardize = None,\n",
    "    ngrams = 2,\n",
    "    output_mode='int',\n",
    "    output_sequence_length=maxlen,\n",
    "\n",
    ")\n",
    "vectorize_layer.adapt(df.new_text)\n",
    "vectorize_layer.vocabulary_size()"
   ]
  },
  {
   "cell_type": "code",
   "execution_count": 18,
   "metadata": {
    "executionInfo": {
     "elapsed": 4,
     "status": "ok",
     "timestamp": 1690105893467,
     "user": {
      "displayName": "Mohammad Amin",
      "userId": "03679903916053909934"
     },
     "user_tz": -210
    },
    "id": "EmYHCu0LxakG"
   },
   "outputs": [],
   "source": [
    "\n",
    "def model1(x_train,y_train,classes,epoches,x_test,y_test,filters,EMBEDDING_DIM,kernel_size):\n",
    "    hidden_dims = 250\n",
    "    # CNN with max pooling imeplementation\n",
    "    model = Sequential()\n",
    "    model.add(tf.keras.Input(shape=(1,), dtype=tf.string,name='text_input'))\n",
    "    model.add(vectorize_layer)\n",
    "    model.add(Embedding(max_features,\n",
    "                        EMBEDDING_DIM,\n",
    "                        input_length=maxlen))\n",
    "    model.add(Conv1D(filters,\n",
    "                     kernel_size,\n",
    "                     padding='valid',\n",
    "                     activation='relu',\n",
    "                     strides=1))\n",
    "\n",
    "    model.add(tf.keras.layers.GlobalMaxPool1D())\n",
    "    model.add(Dense(hidden_dims,activation = 'relu'))\n",
    "    model.add(Dropout(0.5))\n",
    "    model.add(Dense(classes , activation='softmax'))\n",
    "\n",
    "    early_stoping = callbacks.EarlyStopping(\n",
    "    min_delta = 0.1,\n",
    "        patience=2,\n",
    "        restore_best_weights=True\n",
    "    )\n",
    "\n",
    "    model.compile(loss=tf.keras.losses.CategoricalCrossentropy(),\n",
    "                  optimizer=tf.keras.optimizers.RMSprop(\n",
    "                        learning_rate=0.0009,\n",
    "                      centered=True\n",
    "                  ),\n",
    "                  metrics=['accuracy']\n",
    "                )\n",
    "\n",
    "    model.fit(x_train, y_train,\n",
    "              batch_size=64,\n",
    "              epochs=epoches,\n",
    "              validation_data=(x_test,y_test),\n",
    "             callbacks=[early_stoping]\n",
    "             )\n",
    "\n",
    "    return model"
   ]
  },
  {
   "cell_type": "markdown",
   "metadata": {
    "id": "rJApg6GVuTT1"
   },
   "source": [
    "spliting data to 2 part"
   ]
  },
  {
   "cell_type": "code",
   "execution_count": 19,
   "metadata": {
    "executionInfo": {
     "elapsed": 487,
     "status": "ok",
     "timestamp": 1690105902012,
     "user": {
      "displayName": "Mohammad Amin",
      "userId": "03679903916053909934"
     },
     "user_tz": -210
    },
    "id": "bil6kOh2uYSy"
   },
   "outputs": [],
   "source": [
    "x_train_cnn, x_test_cnn, Y_train_cnn, Y_test_cnn = train_test_split(df.new_text,y_cnn,stratify=y_cnn)"
   ]
  },
  {
   "cell_type": "code",
   "execution_count": 20,
   "metadata": {
    "colab": {
     "base_uri": "https://localhost:8080/"
    },
    "executionInfo": {
     "elapsed": 4,
     "status": "ok",
     "timestamp": 1690105902013,
     "user": {
      "displayName": "Mohammad Amin",
      "userId": "03679903916053909934"
     },
     "user_tz": -210
    },
    "id": "oTE8Q6M-uYG4",
    "outputId": "85a485cc-4044-4826-e6cf-bad58088e242"
   },
   "outputs": [
    {
     "data": {
      "text/plain": [
       "(5250,\n",
       " 1750,\n",
       " array([[0., 0., 0., ..., 0., 0., 1.],\n",
       "        [0., 0., 0., ..., 0., 0., 0.],\n",
       "        [0., 0., 0., ..., 0., 1., 0.],\n",
       "        ...,\n",
       "        [0., 0., 0., ..., 0., 0., 0.],\n",
       "        [0., 0., 1., ..., 0., 0., 0.],\n",
       "        [0., 0., 0., ..., 0., 0., 0.]], dtype=float32),\n",
       " array([[1., 0., 0., ..., 0., 0., 0.],\n",
       "        [0., 0., 1., ..., 0., 0., 0.],\n",
       "        [0., 1., 0., ..., 0., 0., 0.],\n",
       "        ...,\n",
       "        [0., 0., 0., ..., 1., 0., 0.],\n",
       "        [0., 0., 0., ..., 0., 0., 0.],\n",
       "        [0., 0., 0., ..., 0., 0., 0.]], dtype=float32))"
      ]
     },
     "execution_count": 20,
     "metadata": {},
     "output_type": "execute_result"
    }
   ],
   "source": [
    "len(x_train_cnn), len(x_test_cnn), Y_train_cnn, Y_test_cnn"
   ]
  },
  {
   "cell_type": "code",
   "execution_count": null,
   "metadata": {
    "colab": {
     "base_uri": "https://localhost:8080/"
    },
    "executionInfo": {
     "elapsed": 215743,
     "status": "ok",
     "timestamp": 1690032248586,
     "user": {
      "displayName": "Mohammad Amin",
      "userId": "03679903916053909934"
     },
     "user_tz": -210
    },
    "id": "rFBiVm7zs92n",
    "outputId": "4d17e28f-7c27-46b7-e721-473ae19b052e"
   },
   "outputs": [
    {
     "name": "stdout",
     "output_type": "stream",
     "text": [
      "Epoch 1/12\n",
      "83/83 [==============================] - 40s 464ms/step - loss: 1.7559 - accuracy: 0.3293 - val_loss: 1.3612 - val_accuracy: 0.4331\n",
      "Epoch 2/12\n",
      "83/83 [==============================] - 36s 432ms/step - loss: 1.0436 - accuracy: 0.6514 - val_loss: 0.8259 - val_accuracy: 0.7217\n",
      "Epoch 3/12\n",
      "83/83 [==============================] - 35s 427ms/step - loss: 0.6296 - accuracy: 0.7962 - val_loss: 0.6144 - val_accuracy: 0.7926\n",
      "Epoch 4/12\n",
      "83/83 [==============================] - 35s 427ms/step - loss: 0.3863 - accuracy: 0.8897 - val_loss: 0.4979 - val_accuracy: 0.8349\n",
      "Epoch 5/12\n",
      "83/83 [==============================] - 34s 410ms/step - loss: 0.2046 - accuracy: 0.9484 - val_loss: 0.4324 - val_accuracy: 0.8554\n",
      "Epoch 6/12\n",
      "83/83 [==============================] - 34s 409ms/step - loss: 0.0975 - accuracy: 0.9785 - val_loss: 0.4212 - val_accuracy: 0.8651\n"
     ]
    }
   ],
   "source": [
    "cnn_model = model1(x_train_cnn,Y_train_cnn,7,12,x_test_cnn,Y_test_cnn,filters=222,EMBEDDING_DIM=120,kernel_size=2)"
   ]
  },
  {
   "cell_type": "markdown",
   "metadata": {
    "id": "fvLrmlmK2Ile"
   },
   "source": [
    "now lets predict with model and then save it to use it later"
   ]
  },
  {
   "cell_type": "code",
   "execution_count": null,
   "metadata": {
    "colab": {
     "base_uri": "https://localhost:8080/"
    },
    "executionInfo": {
     "elapsed": 804,
     "status": "ok",
     "timestamp": 1690033546769,
     "user": {
      "displayName": "Mohammad Amin",
      "userId": "03679903916053909934"
     },
     "user_tz": -210
    },
    "id": "idMxYn9tvJ6W",
    "outputId": "24a98945-3962-4166-d9a3-f9cc74ce51d6"
   },
   "outputs": [
    {
     "name": "stdout",
     "output_type": "stream",
     "text": [
      "1/1 [==============================] - 0s 310ms/step\n"
     ]
    },
    {
     "data": {
      "text/plain": [
       "array([[0.6181535 , 0.03033816, 0.06429069, 0.03132221, 0.08011667,\n",
       "        0.15407766, 0.02170099]], dtype=float32)"
      ]
     },
     "execution_count": 20,
     "metadata": {},
     "output_type": "execute_result"
    }
   ],
   "source": [
    "cnn_model.predict(['سلام من احساس سردرد دارم'])"
   ]
  },
  {
   "cell_type": "code",
   "execution_count": null,
   "metadata": {
    "colab": {
     "base_uri": "https://localhost:8080/"
    },
    "executionInfo": {
     "elapsed": 9297,
     "status": "ok",
     "timestamp": 1690033578064,
     "user": {
      "displayName": "Mohammad Amin",
      "userId": "03679903916053909934"
     },
     "user_tz": -210
    },
    "id": "oQN6Upc12V_Y",
    "outputId": "4271739d-cc35-4e09-9d7f-b3fd16db6fe8"
   },
   "outputs": [
    {
     "name": "stderr",
     "output_type": "stream",
     "text": [
      "WARNING:absl:Found untraced functions such as _jit_compiled_convolution_op, _update_step_xla while saving (showing 2 of 2). These functions will not be directly callable after loading.\n"
     ]
    }
   ],
   "source": [
    "cnn_model.save('cnn_model')"
   ]
  }
 ],
 "metadata": {
  "colab": {
   "authorship_tag": "ABX9TyPWSRZ3qjWMv2hzR66ZeJW8",
   "mount_file_id": "15Y-e1K_dnRwK2ZcqrnDEBg7KOKKRy9rn",
   "provenance": []
  },
  "kernelspec": {
   "display_name": "Python 3 (ipykernel)",
   "language": "python",
   "name": "python3"
  },
  "language_info": {
   "codemirror_mode": {
    "name": "ipython",
    "version": 3
   },
   "file_extension": ".py",
   "mimetype": "text/x-python",
   "name": "python",
   "nbconvert_exporter": "python",
   "pygments_lexer": "ipython3",
   "version": "3.9.16"
  }
 },
 "nbformat": 4,
 "nbformat_minor": 4
}
